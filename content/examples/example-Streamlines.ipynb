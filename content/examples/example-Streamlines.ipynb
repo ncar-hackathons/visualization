{
 "cells": [
  {
   "cell_type": "markdown",
   "metadata": {},
   "source": [
    "# Example: Contour plot with streamlines \n",
    "\n",
    "In this example, we'll plot a tracer field from CAM and overlay streamlines showing the flow."
   ]
  },
  {
   "cell_type": "code",
   "execution_count": 1,
   "metadata": {},
   "outputs": [],
   "source": [
    "%matplotlib inline\n",
    "import xarray as xr\n",
    "import numpy as np\n",
    "import matplotlib.pyplot as plt\n",
    "\n",
    "import cartopy.crs as ccrs\n",
    "from cartopy.util import add_cyclic_point"
   ]
  },
  {
   "cell_type": "markdown",
   "metadata": {},
   "source": [
    "## Load the dataset"
   ]
  },
  {
   "cell_type": "code",
   "execution_count": 2,
   "metadata": {},
   "outputs": [
    {
     "name": "stdout",
     "output_type": "stream",
     "text": [
      "xarray.Dataset {\n",
      "dimensions:\n",
      "\tlat = 192 ;\n",
      "\tlon = 288 ;\n",
      "\n",
      "variables:\n",
      "\tfloat32 CO2(lat, lon) ;\n",
      "\t\tCO2:mdims = 1 ;\n",
      "\t\tCO2:units = kg/kg ;\n",
      "\t\tCO2:long_name = CO2 ;\n",
      "\t\tCO2:cell_methods = time: mean lev: mean ;\n",
      "\tfloat32 U(lat, lon) ;\n",
      "\t\tU:mdims = 1 ;\n",
      "\t\tU:units = m/s ;\n",
      "\t\tU:long_name = Zonal wind ;\n",
      "\t\tU:cell_methods = time: mean lev: mean ;\n",
      "\tfloat32 V(lat, lon) ;\n",
      "\t\tV:mdims = 1 ;\n",
      "\t\tV:units = m/s ;\n",
      "\t\tV:long_name = Meridional wind ;\n",
      "\t\tV:cell_methods = time: mean lev: mean ;\n",
      "\tfloat64 lat(lat) ;\n",
      "\t\tlat:long_name = latitude ;\n",
      "\t\tlat:units = degrees_north ;\n",
      "\tfloat64 lon(lon) ;\n",
      "\t\tlon:long_name = longitude ;\n",
      "\t\tlon:units = degrees_east ;\n",
      "\n",
      "// global attributes:\n",
      "\t:note = CO2, U, & V from bgeos5.B20TRC5CN.f09_g16.BPRD_orcas_sci.004 ;\n",
      "\t:time_period = January 15 2016 ;\n",
      "}"
     ]
    }
   ],
   "source": [
    "ds = xr.open_dataset('../data/co2.nc')\n",
    "ds.info()"
   ]
  },
  {
   "cell_type": "markdown",
   "metadata": {},
   "source": [
    "## Convert units"
   ]
  },
  {
   "cell_type": "code",
   "execution_count": 3,
   "metadata": {},
   "outputs": [],
   "source": [
    "mwair = 28.966\n",
    "mwco2 = 44.\n",
    "with xr.set_options(keep_attrs=True):\n",
    "    ds['CO2'] = ds.CO2 * 1.0e6 * mwair / mwco2\n",
    "    ds.CO2.attrs['units'] = 'ppm'"
   ]
  },
  {
   "cell_type": "markdown",
   "metadata": {},
   "source": [
    "## Make the plot"
   ]
  },
  {
   "cell_type": "code",
   "execution_count": null,
   "metadata": {},
   "outputs": [
    {
     "data": {
      "text/plain": [
       "Text(0.5, 1.0, 'CO$_2$ [ppm]')"
      ]
     },
     "execution_count": 4,
     "metadata": {},
     "output_type": "execute_result"
    }
   ],
   "source": [
    "fig = plt.figure(figsize=(12,12))\n",
    "\n",
    "# create axis with subplot a project\n",
    "crs_latlon = ccrs.PlateCarree()\n",
    "ax = fig.add_subplot(111, projection=crs_latlon)\n",
    "ax.set_extent([-180, 180. , -85, -15], crs=crs_latlon)\n",
    "ax.coastlines('50m')\n",
    "\n",
    "# plot CO2\n",
    "field, lon = add_cyclic_point(ds.CO2, coord=ds.lon)\n",
    "cf = ax.contourf(lon, ds.lat, field, \n",
    "                 levels=np.arange(391,403.5,0.5),\n",
    "                 cmap='RdYlBu_r',\n",
    "                 extend='both',\n",
    "                 transform=ccrs.PlateCarree())\n",
    "\n",
    "# plot velocity field\n",
    "uvel, lonu = add_cyclic_point(ds.U, coord=ds.lon)\n",
    "vvel, lonv = add_cyclic_point(ds.V, coord=ds.lon)\n",
    "\n",
    "lonu = np.where(lonu>=180.,lonu-360.,lonu)\n",
    "\n",
    "sp = ax.streamplot(lonu, ds.lat, uvel, vvel,\n",
    "                   linewidth=0.2,\n",
    "                   arrowsize = 0.2,\n",
    "                   density=5,\n",
    "                   color='k',\n",
    "                   transform=ccrs.PlateCarree())\n",
    "\n",
    "\n",
    "cb = plt.colorbar(cf,orientation='horizontal', pad=0.04, aspect=50)\n",
    "cb.ax.set_title('CO$_2$ [ppm]')"
   ]
  },
  {
   "cell_type": "code",
   "execution_count": null,
   "metadata": {},
   "outputs": [],
   "source": []
  }
 ],
 "metadata": {
  "kernelspec": {
   "display_name": "Py3 Analysis",
   "language": "python",
   "name": "py3"
  },
  "language_info": {
   "codemirror_mode": {
    "name": "ipython",
    "version": 3
   },
   "file_extension": ".py",
   "mimetype": "text/x-python",
   "name": "python",
   "nbconvert_exporter": "python",
   "pygments_lexer": "ipython3",
   "version": "3.6.7"
  }
 },
 "nbformat": 4,
 "nbformat_minor": 2
}
